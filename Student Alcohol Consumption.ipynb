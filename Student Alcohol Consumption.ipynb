{
 "cells": [
  {
   "cell_type": "markdown",
   "metadata": {},
   "source": [
    "## Student Alcohol Consumption\n",
    "\n",
    "With the data set provided, there were ample amount of things that could have been done. For example, one could predict if a student is in relationship, quantity of alcohol consumption and also his marks in the subject. Marks would be inconsistent to predict as subjects are different, but still I'll take it as a challenge and work with it in this notebook. I'll be working on predicting average grade and not the final grade of the student."
   ]
  },
  {
   "cell_type": "markdown",
   "metadata": {},
   "source": [
    "Before moving ahead, let's import all required packages in one go. "
   ]
  },
  {
   "cell_type": "code",
   "execution_count": 60,
   "metadata": {},
   "outputs": [],
   "source": [
    "import pandas as pd # To read csv, handle dataframe operations.\n",
    "import numpy as np # To create arrays\n",
    "import matplotlib.pyplot as plt # For creating beautiful plots.\n",
    "from tqdm import tqdm # Just a little tweak to get a progress bar with slow processing cells.\n",
    "from sklearn.model_selection import train_test_split as tts # Splitting data set to test and train.\n",
    "from sklearn.tree import DecisionTreeRegressor # Making a decision tree regression model\n",
    "from sklearn.ensemble import RandomForestRegressor # Making a Random Forest regression model\n",
    "from sklearn.svm import SVR # Building a Support Vector Regression model\n",
    "from sklearn.metrics import explained_variance_score, mean_absolute_error, mean_squared_error, mean_squared_log_error, median_absolute_error, r2_score\n",
    "\n",
    "%matplotlib inline\n",
    "tqdm.pandas() # Magic initializer for the package"
   ]
  },
  {
   "cell_type": "markdown",
   "metadata": {},
   "source": [
    "Reading csv files and creating dataframes."
   ]
  },
  {
   "cell_type": "code",
   "execution_count": 61,
   "metadata": {},
   "outputs": [],
   "source": [
    "math_class_data = pd.read_csv('student-mat.csv')\n",
    "port_class_data = pd.read_csv('student-por.csv')"
   ]
  },
  {
   "cell_type": "markdown",
   "metadata": {},
   "source": [
    "Check the data types of columns of both these dataframes."
   ]
  },
  {
   "cell_type": "code",
   "execution_count": 62,
   "metadata": {},
   "outputs": [
    {
     "data": {
      "text/plain": [
       "school        object\n",
       "sex           object\n",
       "age            int64\n",
       "address       object\n",
       "famsize       object\n",
       "Pstatus       object\n",
       "Medu           int64\n",
       "Fedu           int64\n",
       "Mjob          object\n",
       "Fjob          object\n",
       "reason        object\n",
       "guardian      object\n",
       "traveltime     int64\n",
       "studytime      int64\n",
       "failures       int64\n",
       "schoolsup     object\n",
       "famsup        object\n",
       "paid          object\n",
       "activities    object\n",
       "nursery       object\n",
       "higher        object\n",
       "internet      object\n",
       "romantic      object\n",
       "famrel         int64\n",
       "freetime       int64\n",
       "goout          int64\n",
       "Dalc           int64\n",
       "Walc           int64\n",
       "health         int64\n",
       "absences       int64\n",
       "G1             int64\n",
       "G2             int64\n",
       "G3             int64\n",
       "dtype: object"
      ]
     },
     "execution_count": 62,
     "metadata": {},
     "output_type": "execute_result"
    }
   ],
   "source": [
    "math_class_data.dtypes"
   ]
  },
  {
   "cell_type": "code",
   "execution_count": 63,
   "metadata": {
    "scrolled": true
   },
   "outputs": [
    {
     "data": {
      "text/plain": [
       "school        object\n",
       "sex           object\n",
       "age            int64\n",
       "address       object\n",
       "famsize       object\n",
       "Pstatus       object\n",
       "Medu           int64\n",
       "Fedu           int64\n",
       "Mjob          object\n",
       "Fjob          object\n",
       "reason        object\n",
       "guardian      object\n",
       "traveltime     int64\n",
       "studytime      int64\n",
       "failures       int64\n",
       "schoolsup     object\n",
       "famsup        object\n",
       "paid          object\n",
       "activities    object\n",
       "nursery       object\n",
       "higher        object\n",
       "internet      object\n",
       "romantic      object\n",
       "famrel         int64\n",
       "freetime       int64\n",
       "goout          int64\n",
       "Dalc           int64\n",
       "Walc           int64\n",
       "health         int64\n",
       "absences       int64\n",
       "G1             int64\n",
       "G2             int64\n",
       "G3             int64\n",
       "dtype: object"
      ]
     },
     "execution_count": 63,
     "metadata": {},
     "output_type": "execute_result"
    }
   ],
   "source": [
    "port_class_data.dtypes"
   ]
  },
  {
   "cell_type": "markdown",
   "metadata": {},
   "source": [
    "As we are guessing the marks of the student, we need to make a target column. And as previously mentioned, we are guessing overall grade. Therefore let's drop G1, G2, G3 and instead add a column with the average of these 3."
   ]
  },
  {
   "cell_type": "code",
   "execution_count": 64,
   "metadata": {},
   "outputs": [],
   "source": [
    "def create_target_column(df):\n",
    "    '''This method creates a column with the average marks in G1, G2, and G3. Also deletes the 3 columns\n",
    "    with marks. In the end, we are left with only 1 column with average marks.\n",
    "    @param df The dataframe on which work needs to be done.\n",
    "    @return modified dataframe with removed columns and a new column with average marks.'''\n",
    "    G1 = np.asarray(df[\"G1\"].tolist(), dtype = int)\n",
    "    G2 = np.asarray(df[\"G2\"].tolist(), dtype = int)\n",
    "    G3 = np.asarray(df[\"G3\"].tolist(), dtype = int)\n",
    "    df.drop([\"G1\", \"G2\", \"G3\"], axis = 1, inplace = True)\n",
    "    G1 = np.divide((G1 + G2 + G3), 3)\n",
    "    df[\"G\"] = list(G1)\n",
    "    return df"
   ]
  },
  {
   "cell_type": "markdown",
   "metadata": {},
   "source": [
    "Applying the above function to both the dataframes."
   ]
  },
  {
   "cell_type": "code",
   "execution_count": 65,
   "metadata": {},
   "outputs": [],
   "source": [
    "math_class_data = create_target_column(math_class_data)\n",
    "port_class_data = create_target_column(port_class_data)"
   ]
  },
  {
   "cell_type": "markdown",
   "metadata": {},
   "source": [
    "Let's see how it worked out."
   ]
  },
  {
   "cell_type": "code",
   "execution_count": 66,
   "metadata": {},
   "outputs": [
    {
     "data": {
      "text/html": [
       "<div>\n",
       "<style scoped>\n",
       "    .dataframe tbody tr th:only-of-type {\n",
       "        vertical-align: middle;\n",
       "    }\n",
       "\n",
       "    .dataframe tbody tr th {\n",
       "        vertical-align: top;\n",
       "    }\n",
       "\n",
       "    .dataframe thead th {\n",
       "        text-align: right;\n",
       "    }\n",
       "</style>\n",
       "<table border=\"1\" class=\"dataframe\">\n",
       "  <thead>\n",
       "    <tr style=\"text-align: right;\">\n",
       "      <th></th>\n",
       "      <th>age</th>\n",
       "      <th>Medu</th>\n",
       "      <th>Fedu</th>\n",
       "      <th>traveltime</th>\n",
       "      <th>studytime</th>\n",
       "      <th>failures</th>\n",
       "      <th>famrel</th>\n",
       "      <th>freetime</th>\n",
       "      <th>goout</th>\n",
       "      <th>Dalc</th>\n",
       "      <th>Walc</th>\n",
       "      <th>health</th>\n",
       "      <th>absences</th>\n",
       "      <th>G</th>\n",
       "    </tr>\n",
       "  </thead>\n",
       "  <tbody>\n",
       "    <tr>\n",
       "      <th>count</th>\n",
       "      <td>395.000000</td>\n",
       "      <td>395.000000</td>\n",
       "      <td>395.000000</td>\n",
       "      <td>395.000000</td>\n",
       "      <td>395.000000</td>\n",
       "      <td>395.000000</td>\n",
       "      <td>395.000000</td>\n",
       "      <td>395.000000</td>\n",
       "      <td>395.000000</td>\n",
       "      <td>395.000000</td>\n",
       "      <td>395.000000</td>\n",
       "      <td>395.000000</td>\n",
       "      <td>395.000000</td>\n",
       "      <td>395.000000</td>\n",
       "    </tr>\n",
       "    <tr>\n",
       "      <th>mean</th>\n",
       "      <td>16.696203</td>\n",
       "      <td>2.749367</td>\n",
       "      <td>2.521519</td>\n",
       "      <td>1.448101</td>\n",
       "      <td>2.035443</td>\n",
       "      <td>0.334177</td>\n",
       "      <td>3.944304</td>\n",
       "      <td>3.235443</td>\n",
       "      <td>3.108861</td>\n",
       "      <td>1.481013</td>\n",
       "      <td>2.291139</td>\n",
       "      <td>3.554430</td>\n",
       "      <td>5.708861</td>\n",
       "      <td>10.679325</td>\n",
       "    </tr>\n",
       "    <tr>\n",
       "      <th>std</th>\n",
       "      <td>1.276043</td>\n",
       "      <td>1.094735</td>\n",
       "      <td>1.088201</td>\n",
       "      <td>0.697505</td>\n",
       "      <td>0.839240</td>\n",
       "      <td>0.743651</td>\n",
       "      <td>0.896659</td>\n",
       "      <td>0.998862</td>\n",
       "      <td>1.113278</td>\n",
       "      <td>0.890741</td>\n",
       "      <td>1.287897</td>\n",
       "      <td>1.390303</td>\n",
       "      <td>8.003096</td>\n",
       "      <td>3.696786</td>\n",
       "    </tr>\n",
       "    <tr>\n",
       "      <th>min</th>\n",
       "      <td>15.000000</td>\n",
       "      <td>0.000000</td>\n",
       "      <td>0.000000</td>\n",
       "      <td>1.000000</td>\n",
       "      <td>1.000000</td>\n",
       "      <td>0.000000</td>\n",
       "      <td>1.000000</td>\n",
       "      <td>1.000000</td>\n",
       "      <td>1.000000</td>\n",
       "      <td>1.000000</td>\n",
       "      <td>1.000000</td>\n",
       "      <td>1.000000</td>\n",
       "      <td>0.000000</td>\n",
       "      <td>1.333333</td>\n",
       "    </tr>\n",
       "    <tr>\n",
       "      <th>25%</th>\n",
       "      <td>16.000000</td>\n",
       "      <td>2.000000</td>\n",
       "      <td>2.000000</td>\n",
       "      <td>1.000000</td>\n",
       "      <td>1.000000</td>\n",
       "      <td>0.000000</td>\n",
       "      <td>4.000000</td>\n",
       "      <td>3.000000</td>\n",
       "      <td>2.000000</td>\n",
       "      <td>1.000000</td>\n",
       "      <td>1.000000</td>\n",
       "      <td>3.000000</td>\n",
       "      <td>0.000000</td>\n",
       "      <td>8.333333</td>\n",
       "    </tr>\n",
       "    <tr>\n",
       "      <th>50%</th>\n",
       "      <td>17.000000</td>\n",
       "      <td>3.000000</td>\n",
       "      <td>2.000000</td>\n",
       "      <td>1.000000</td>\n",
       "      <td>2.000000</td>\n",
       "      <td>0.000000</td>\n",
       "      <td>4.000000</td>\n",
       "      <td>3.000000</td>\n",
       "      <td>3.000000</td>\n",
       "      <td>1.000000</td>\n",
       "      <td>2.000000</td>\n",
       "      <td>4.000000</td>\n",
       "      <td>4.000000</td>\n",
       "      <td>10.666667</td>\n",
       "    </tr>\n",
       "    <tr>\n",
       "      <th>75%</th>\n",
       "      <td>18.000000</td>\n",
       "      <td>4.000000</td>\n",
       "      <td>3.000000</td>\n",
       "      <td>2.000000</td>\n",
       "      <td>2.000000</td>\n",
       "      <td>0.000000</td>\n",
       "      <td>5.000000</td>\n",
       "      <td>4.000000</td>\n",
       "      <td>4.000000</td>\n",
       "      <td>2.000000</td>\n",
       "      <td>3.000000</td>\n",
       "      <td>5.000000</td>\n",
       "      <td>8.000000</td>\n",
       "      <td>13.333333</td>\n",
       "    </tr>\n",
       "    <tr>\n",
       "      <th>max</th>\n",
       "      <td>22.000000</td>\n",
       "      <td>4.000000</td>\n",
       "      <td>4.000000</td>\n",
       "      <td>4.000000</td>\n",
       "      <td>4.000000</td>\n",
       "      <td>3.000000</td>\n",
       "      <td>5.000000</td>\n",
       "      <td>5.000000</td>\n",
       "      <td>5.000000</td>\n",
       "      <td>5.000000</td>\n",
       "      <td>5.000000</td>\n",
       "      <td>5.000000</td>\n",
       "      <td>75.000000</td>\n",
       "      <td>19.333333</td>\n",
       "    </tr>\n",
       "  </tbody>\n",
       "</table>\n",
       "</div>"
      ],
      "text/plain": [
       "              age        Medu        Fedu  traveltime   studytime    failures  \\\n",
       "count  395.000000  395.000000  395.000000  395.000000  395.000000  395.000000   \n",
       "mean    16.696203    2.749367    2.521519    1.448101    2.035443    0.334177   \n",
       "std      1.276043    1.094735    1.088201    0.697505    0.839240    0.743651   \n",
       "min     15.000000    0.000000    0.000000    1.000000    1.000000    0.000000   \n",
       "25%     16.000000    2.000000    2.000000    1.000000    1.000000    0.000000   \n",
       "50%     17.000000    3.000000    2.000000    1.000000    2.000000    0.000000   \n",
       "75%     18.000000    4.000000    3.000000    2.000000    2.000000    0.000000   \n",
       "max     22.000000    4.000000    4.000000    4.000000    4.000000    3.000000   \n",
       "\n",
       "           famrel    freetime       goout        Dalc        Walc      health  \\\n",
       "count  395.000000  395.000000  395.000000  395.000000  395.000000  395.000000   \n",
       "mean     3.944304    3.235443    3.108861    1.481013    2.291139    3.554430   \n",
       "std      0.896659    0.998862    1.113278    0.890741    1.287897    1.390303   \n",
       "min      1.000000    1.000000    1.000000    1.000000    1.000000    1.000000   \n",
       "25%      4.000000    3.000000    2.000000    1.000000    1.000000    3.000000   \n",
       "50%      4.000000    3.000000    3.000000    1.000000    2.000000    4.000000   \n",
       "75%      5.000000    4.000000    4.000000    2.000000    3.000000    5.000000   \n",
       "max      5.000000    5.000000    5.000000    5.000000    5.000000    5.000000   \n",
       "\n",
       "         absences           G  \n",
       "count  395.000000  395.000000  \n",
       "mean     5.708861   10.679325  \n",
       "std      8.003096    3.696786  \n",
       "min      0.000000    1.333333  \n",
       "25%      0.000000    8.333333  \n",
       "50%      4.000000   10.666667  \n",
       "75%      8.000000   13.333333  \n",
       "max     75.000000   19.333333  "
      ]
     },
     "execution_count": 66,
     "metadata": {},
     "output_type": "execute_result"
    }
   ],
   "source": [
    "math_class_data.describe()"
   ]
  },
  {
   "cell_type": "code",
   "execution_count": 67,
   "metadata": {},
   "outputs": [
    {
     "data": {
      "text/html": [
       "<div>\n",
       "<style scoped>\n",
       "    .dataframe tbody tr th:only-of-type {\n",
       "        vertical-align: middle;\n",
       "    }\n",
       "\n",
       "    .dataframe tbody tr th {\n",
       "        vertical-align: top;\n",
       "    }\n",
       "\n",
       "    .dataframe thead th {\n",
       "        text-align: right;\n",
       "    }\n",
       "</style>\n",
       "<table border=\"1\" class=\"dataframe\">\n",
       "  <thead>\n",
       "    <tr style=\"text-align: right;\">\n",
       "      <th></th>\n",
       "      <th>age</th>\n",
       "      <th>Medu</th>\n",
       "      <th>Fedu</th>\n",
       "      <th>traveltime</th>\n",
       "      <th>studytime</th>\n",
       "      <th>failures</th>\n",
       "      <th>famrel</th>\n",
       "      <th>freetime</th>\n",
       "      <th>goout</th>\n",
       "      <th>Dalc</th>\n",
       "      <th>Walc</th>\n",
       "      <th>health</th>\n",
       "      <th>absences</th>\n",
       "      <th>G</th>\n",
       "    </tr>\n",
       "  </thead>\n",
       "  <tbody>\n",
       "    <tr>\n",
       "      <th>count</th>\n",
       "      <td>649.000000</td>\n",
       "      <td>649.000000</td>\n",
       "      <td>649.000000</td>\n",
       "      <td>649.000000</td>\n",
       "      <td>649.000000</td>\n",
       "      <td>649.000000</td>\n",
       "      <td>649.000000</td>\n",
       "      <td>649.000000</td>\n",
       "      <td>649.000000</td>\n",
       "      <td>649.000000</td>\n",
       "      <td>649.000000</td>\n",
       "      <td>649.000000</td>\n",
       "      <td>649.000000</td>\n",
       "      <td>649.000000</td>\n",
       "    </tr>\n",
       "    <tr>\n",
       "      <th>mean</th>\n",
       "      <td>16.744222</td>\n",
       "      <td>2.514638</td>\n",
       "      <td>2.306626</td>\n",
       "      <td>1.568567</td>\n",
       "      <td>1.930663</td>\n",
       "      <td>0.221880</td>\n",
       "      <td>3.930663</td>\n",
       "      <td>3.180277</td>\n",
       "      <td>3.184900</td>\n",
       "      <td>1.502311</td>\n",
       "      <td>2.280431</td>\n",
       "      <td>3.536210</td>\n",
       "      <td>3.659476</td>\n",
       "      <td>11.625064</td>\n",
       "    </tr>\n",
       "    <tr>\n",
       "      <th>std</th>\n",
       "      <td>1.218138</td>\n",
       "      <td>1.134552</td>\n",
       "      <td>1.099931</td>\n",
       "      <td>0.748660</td>\n",
       "      <td>0.829510</td>\n",
       "      <td>0.593235</td>\n",
       "      <td>0.955717</td>\n",
       "      <td>1.051093</td>\n",
       "      <td>1.175766</td>\n",
       "      <td>0.924834</td>\n",
       "      <td>1.284380</td>\n",
       "      <td>1.446259</td>\n",
       "      <td>4.640759</td>\n",
       "      <td>2.833360</td>\n",
       "    </tr>\n",
       "    <tr>\n",
       "      <th>min</th>\n",
       "      <td>15.000000</td>\n",
       "      <td>0.000000</td>\n",
       "      <td>0.000000</td>\n",
       "      <td>1.000000</td>\n",
       "      <td>1.000000</td>\n",
       "      <td>0.000000</td>\n",
       "      <td>1.000000</td>\n",
       "      <td>1.000000</td>\n",
       "      <td>1.000000</td>\n",
       "      <td>1.000000</td>\n",
       "      <td>1.000000</td>\n",
       "      <td>1.000000</td>\n",
       "      <td>0.000000</td>\n",
       "      <td>1.333333</td>\n",
       "    </tr>\n",
       "    <tr>\n",
       "      <th>25%</th>\n",
       "      <td>16.000000</td>\n",
       "      <td>2.000000</td>\n",
       "      <td>1.000000</td>\n",
       "      <td>1.000000</td>\n",
       "      <td>1.000000</td>\n",
       "      <td>0.000000</td>\n",
       "      <td>4.000000</td>\n",
       "      <td>3.000000</td>\n",
       "      <td>2.000000</td>\n",
       "      <td>1.000000</td>\n",
       "      <td>1.000000</td>\n",
       "      <td>2.000000</td>\n",
       "      <td>0.000000</td>\n",
       "      <td>10.000000</td>\n",
       "    </tr>\n",
       "    <tr>\n",
       "      <th>50%</th>\n",
       "      <td>17.000000</td>\n",
       "      <td>2.000000</td>\n",
       "      <td>2.000000</td>\n",
       "      <td>1.000000</td>\n",
       "      <td>2.000000</td>\n",
       "      <td>0.000000</td>\n",
       "      <td>4.000000</td>\n",
       "      <td>3.000000</td>\n",
       "      <td>3.000000</td>\n",
       "      <td>1.000000</td>\n",
       "      <td>2.000000</td>\n",
       "      <td>4.000000</td>\n",
       "      <td>2.000000</td>\n",
       "      <td>11.666667</td>\n",
       "    </tr>\n",
       "    <tr>\n",
       "      <th>75%</th>\n",
       "      <td>18.000000</td>\n",
       "      <td>4.000000</td>\n",
       "      <td>3.000000</td>\n",
       "      <td>2.000000</td>\n",
       "      <td>2.000000</td>\n",
       "      <td>0.000000</td>\n",
       "      <td>5.000000</td>\n",
       "      <td>4.000000</td>\n",
       "      <td>4.000000</td>\n",
       "      <td>2.000000</td>\n",
       "      <td>3.000000</td>\n",
       "      <td>5.000000</td>\n",
       "      <td>6.000000</td>\n",
       "      <td>13.333333</td>\n",
       "    </tr>\n",
       "    <tr>\n",
       "      <th>max</th>\n",
       "      <td>22.000000</td>\n",
       "      <td>4.000000</td>\n",
       "      <td>4.000000</td>\n",
       "      <td>4.000000</td>\n",
       "      <td>4.000000</td>\n",
       "      <td>3.000000</td>\n",
       "      <td>5.000000</td>\n",
       "      <td>5.000000</td>\n",
       "      <td>5.000000</td>\n",
       "      <td>5.000000</td>\n",
       "      <td>5.000000</td>\n",
       "      <td>5.000000</td>\n",
       "      <td>32.000000</td>\n",
       "      <td>18.666667</td>\n",
       "    </tr>\n",
       "  </tbody>\n",
       "</table>\n",
       "</div>"
      ],
      "text/plain": [
       "              age        Medu        Fedu  traveltime   studytime    failures  \\\n",
       "count  649.000000  649.000000  649.000000  649.000000  649.000000  649.000000   \n",
       "mean    16.744222    2.514638    2.306626    1.568567    1.930663    0.221880   \n",
       "std      1.218138    1.134552    1.099931    0.748660    0.829510    0.593235   \n",
       "min     15.000000    0.000000    0.000000    1.000000    1.000000    0.000000   \n",
       "25%     16.000000    2.000000    1.000000    1.000000    1.000000    0.000000   \n",
       "50%     17.000000    2.000000    2.000000    1.000000    2.000000    0.000000   \n",
       "75%     18.000000    4.000000    3.000000    2.000000    2.000000    0.000000   \n",
       "max     22.000000    4.000000    4.000000    4.000000    4.000000    3.000000   \n",
       "\n",
       "           famrel    freetime       goout        Dalc        Walc      health  \\\n",
       "count  649.000000  649.000000  649.000000  649.000000  649.000000  649.000000   \n",
       "mean     3.930663    3.180277    3.184900    1.502311    2.280431    3.536210   \n",
       "std      0.955717    1.051093    1.175766    0.924834    1.284380    1.446259   \n",
       "min      1.000000    1.000000    1.000000    1.000000    1.000000    1.000000   \n",
       "25%      4.000000    3.000000    2.000000    1.000000    1.000000    2.000000   \n",
       "50%      4.000000    3.000000    3.000000    1.000000    2.000000    4.000000   \n",
       "75%      5.000000    4.000000    4.000000    2.000000    3.000000    5.000000   \n",
       "max      5.000000    5.000000    5.000000    5.000000    5.000000    5.000000   \n",
       "\n",
       "         absences           G  \n",
       "count  649.000000  649.000000  \n",
       "mean     3.659476   11.625064  \n",
       "std      4.640759    2.833360  \n",
       "min      0.000000    1.333333  \n",
       "25%      0.000000   10.000000  \n",
       "50%      2.000000   11.666667  \n",
       "75%      6.000000   13.333333  \n",
       "max     32.000000   18.666667  "
      ]
     },
     "execution_count": 67,
     "metadata": {},
     "output_type": "execute_result"
    }
   ],
   "source": [
    "port_class_data.describe()"
   ]
  },
  {
   "cell_type": "markdown",
   "metadata": {},
   "source": [
    "It is time to merge these dataframes. As told that there are 382 repeated but I have ignored it just to see that model doesn't overfit later by memorising data.\n",
    "\n",
    "For merging, first a copy of one of the dataframe is made and then they are merged together."
   ]
  },
  {
   "cell_type": "code",
   "execution_count": 68,
   "metadata": {},
   "outputs": [],
   "source": [
    "student_data = math_class_data.copy(deep = True)"
   ]
  },
  {
   "cell_type": "code",
   "execution_count": 69,
   "metadata": {},
   "outputs": [],
   "source": [
    "student_data = student_data.merge(port_class_data, how = 'outer')"
   ]
  },
  {
   "cell_type": "markdown",
   "metadata": {},
   "source": [
    "Let's see how the data looks now."
   ]
  },
  {
   "cell_type": "code",
   "execution_count": 70,
   "metadata": {},
   "outputs": [
    {
     "data": {
      "text/html": [
       "<div>\n",
       "<style scoped>\n",
       "    .dataframe tbody tr th:only-of-type {\n",
       "        vertical-align: middle;\n",
       "    }\n",
       "\n",
       "    .dataframe tbody tr th {\n",
       "        vertical-align: top;\n",
       "    }\n",
       "\n",
       "    .dataframe thead th {\n",
       "        text-align: right;\n",
       "    }\n",
       "</style>\n",
       "<table border=\"1\" class=\"dataframe\">\n",
       "  <thead>\n",
       "    <tr style=\"text-align: right;\">\n",
       "      <th></th>\n",
       "      <th>age</th>\n",
       "      <th>Medu</th>\n",
       "      <th>Fedu</th>\n",
       "      <th>traveltime</th>\n",
       "      <th>studytime</th>\n",
       "      <th>failures</th>\n",
       "      <th>famrel</th>\n",
       "      <th>freetime</th>\n",
       "      <th>goout</th>\n",
       "      <th>Dalc</th>\n",
       "      <th>Walc</th>\n",
       "      <th>health</th>\n",
       "      <th>absences</th>\n",
       "      <th>G</th>\n",
       "    </tr>\n",
       "  </thead>\n",
       "  <tbody>\n",
       "    <tr>\n",
       "      <th>count</th>\n",
       "      <td>1042.000000</td>\n",
       "      <td>1042.000000</td>\n",
       "      <td>1042.000000</td>\n",
       "      <td>1042.000000</td>\n",
       "      <td>1042.000000</td>\n",
       "      <td>1042.000000</td>\n",
       "      <td>1042.000000</td>\n",
       "      <td>1042.000000</td>\n",
       "      <td>1042.000000</td>\n",
       "      <td>1042.000000</td>\n",
       "      <td>1042.000000</td>\n",
       "      <td>1042.000000</td>\n",
       "      <td>1042.000000</td>\n",
       "      <td>1042.000000</td>\n",
       "    </tr>\n",
       "    <tr>\n",
       "      <th>mean</th>\n",
       "      <td>16.729367</td>\n",
       "      <td>2.600768</td>\n",
       "      <td>2.386756</td>\n",
       "      <td>1.523992</td>\n",
       "      <td>1.968330</td>\n",
       "      <td>0.264875</td>\n",
       "      <td>3.935701</td>\n",
       "      <td>3.200576</td>\n",
       "      <td>3.157390</td>\n",
       "      <td>1.493282</td>\n",
       "      <td>2.284069</td>\n",
       "      <td>3.542226</td>\n",
       "      <td>4.443378</td>\n",
       "      <td>11.269034</td>\n",
       "    </tr>\n",
       "    <tr>\n",
       "      <th>std</th>\n",
       "      <td>1.238853</td>\n",
       "      <td>1.124318</td>\n",
       "      <td>1.099794</td>\n",
       "      <td>0.732070</td>\n",
       "      <td>0.832779</td>\n",
       "      <td>0.656669</td>\n",
       "      <td>0.933264</td>\n",
       "      <td>1.032181</td>\n",
       "      <td>1.153114</td>\n",
       "      <td>0.911266</td>\n",
       "      <td>1.284623</td>\n",
       "      <td>1.425257</td>\n",
       "      <td>6.212933</td>\n",
       "      <td>3.221602</td>\n",
       "    </tr>\n",
       "    <tr>\n",
       "      <th>min</th>\n",
       "      <td>15.000000</td>\n",
       "      <td>0.000000</td>\n",
       "      <td>0.000000</td>\n",
       "      <td>1.000000</td>\n",
       "      <td>1.000000</td>\n",
       "      <td>0.000000</td>\n",
       "      <td>1.000000</td>\n",
       "      <td>1.000000</td>\n",
       "      <td>1.000000</td>\n",
       "      <td>1.000000</td>\n",
       "      <td>1.000000</td>\n",
       "      <td>1.000000</td>\n",
       "      <td>0.000000</td>\n",
       "      <td>1.333333</td>\n",
       "    </tr>\n",
       "    <tr>\n",
       "      <th>25%</th>\n",
       "      <td>16.000000</td>\n",
       "      <td>2.000000</td>\n",
       "      <td>1.000000</td>\n",
       "      <td>1.000000</td>\n",
       "      <td>1.000000</td>\n",
       "      <td>0.000000</td>\n",
       "      <td>4.000000</td>\n",
       "      <td>3.000000</td>\n",
       "      <td>2.000000</td>\n",
       "      <td>1.000000</td>\n",
       "      <td>1.000000</td>\n",
       "      <td>3.000000</td>\n",
       "      <td>0.000000</td>\n",
       "      <td>9.333333</td>\n",
       "    </tr>\n",
       "    <tr>\n",
       "      <th>50%</th>\n",
       "      <td>17.000000</td>\n",
       "      <td>3.000000</td>\n",
       "      <td>2.000000</td>\n",
       "      <td>1.000000</td>\n",
       "      <td>2.000000</td>\n",
       "      <td>0.000000</td>\n",
       "      <td>4.000000</td>\n",
       "      <td>3.000000</td>\n",
       "      <td>3.000000</td>\n",
       "      <td>1.000000</td>\n",
       "      <td>2.000000</td>\n",
       "      <td>4.000000</td>\n",
       "      <td>2.000000</td>\n",
       "      <td>11.333333</td>\n",
       "    </tr>\n",
       "    <tr>\n",
       "      <th>75%</th>\n",
       "      <td>18.000000</td>\n",
       "      <td>4.000000</td>\n",
       "      <td>3.000000</td>\n",
       "      <td>2.000000</td>\n",
       "      <td>2.000000</td>\n",
       "      <td>0.000000</td>\n",
       "      <td>5.000000</td>\n",
       "      <td>4.000000</td>\n",
       "      <td>4.000000</td>\n",
       "      <td>2.000000</td>\n",
       "      <td>3.000000</td>\n",
       "      <td>5.000000</td>\n",
       "      <td>6.000000</td>\n",
       "      <td>13.333333</td>\n",
       "    </tr>\n",
       "    <tr>\n",
       "      <th>max</th>\n",
       "      <td>22.000000</td>\n",
       "      <td>4.000000</td>\n",
       "      <td>4.000000</td>\n",
       "      <td>4.000000</td>\n",
       "      <td>4.000000</td>\n",
       "      <td>3.000000</td>\n",
       "      <td>5.000000</td>\n",
       "      <td>5.000000</td>\n",
       "      <td>5.000000</td>\n",
       "      <td>5.000000</td>\n",
       "      <td>5.000000</td>\n",
       "      <td>5.000000</td>\n",
       "      <td>75.000000</td>\n",
       "      <td>19.333333</td>\n",
       "    </tr>\n",
       "  </tbody>\n",
       "</table>\n",
       "</div>"
      ],
      "text/plain": [
       "               age         Medu         Fedu   traveltime    studytime  \\\n",
       "count  1042.000000  1042.000000  1042.000000  1042.000000  1042.000000   \n",
       "mean     16.729367     2.600768     2.386756     1.523992     1.968330   \n",
       "std       1.238853     1.124318     1.099794     0.732070     0.832779   \n",
       "min      15.000000     0.000000     0.000000     1.000000     1.000000   \n",
       "25%      16.000000     2.000000     1.000000     1.000000     1.000000   \n",
       "50%      17.000000     3.000000     2.000000     1.000000     2.000000   \n",
       "75%      18.000000     4.000000     3.000000     2.000000     2.000000   \n",
       "max      22.000000     4.000000     4.000000     4.000000     4.000000   \n",
       "\n",
       "          failures       famrel     freetime        goout         Dalc  \\\n",
       "count  1042.000000  1042.000000  1042.000000  1042.000000  1042.000000   \n",
       "mean      0.264875     3.935701     3.200576     3.157390     1.493282   \n",
       "std       0.656669     0.933264     1.032181     1.153114     0.911266   \n",
       "min       0.000000     1.000000     1.000000     1.000000     1.000000   \n",
       "25%       0.000000     4.000000     3.000000     2.000000     1.000000   \n",
       "50%       0.000000     4.000000     3.000000     3.000000     1.000000   \n",
       "75%       0.000000     5.000000     4.000000     4.000000     2.000000   \n",
       "max       3.000000     5.000000     5.000000     5.000000     5.000000   \n",
       "\n",
       "              Walc       health     absences            G  \n",
       "count  1042.000000  1042.000000  1042.000000  1042.000000  \n",
       "mean      2.284069     3.542226     4.443378    11.269034  \n",
       "std       1.284623     1.425257     6.212933     3.221602  \n",
       "min       1.000000     1.000000     0.000000     1.333333  \n",
       "25%       1.000000     3.000000     0.000000     9.333333  \n",
       "50%       2.000000     4.000000     2.000000    11.333333  \n",
       "75%       3.000000     5.000000     6.000000    13.333333  \n",
       "max       5.000000     5.000000    75.000000    19.333333  "
      ]
     },
     "execution_count": 70,
     "metadata": {},
     "output_type": "execute_result"
    }
   ],
   "source": [
    "student_data.describe()"
   ]
  },
  {
   "cell_type": "markdown",
   "metadata": {},
   "source": [
    "1042 students. There should have been 1044 actually, but 2 students had same average in both the subjects and thus were included only once each."
   ]
  },
  {
   "cell_type": "markdown",
   "metadata": {},
   "source": [
    "Let us find out all the columns that contain atleast 1 missing value."
   ]
  },
  {
   "cell_type": "code",
   "execution_count": 71,
   "metadata": {},
   "outputs": [
    {
     "name": "stdout",
     "output_type": "stream",
     "text": [
      "[]\n"
     ]
    }
   ],
   "source": [
    "nan_list = student_data.columns[student_data.isna().any()].tolist()\n",
    "print(nan_list)"
   ]
  },
  {
   "cell_type": "markdown",
   "metadata": {},
   "source": [
    "None! No missing data to handle here. "
   ]
  },
  {
   "cell_type": "markdown",
   "metadata": {},
   "source": [
    "But we do have categorical data. It needs to be handled to work with ML algorithms. The approach is to just encode data to integer. No hard steps taken to convert the word to vectors using embedding or anything."
   ]
  },
  {
   "cell_type": "code",
   "execution_count": 72,
   "metadata": {},
   "outputs": [],
   "source": [
    "def clean_categorical_data(df):\n",
    "    '''First, we create a list of columns that contain categorical data. Then we traverse the list\n",
    "    and apply cat.codes method to convert it to integer data.'''\n",
    "    object_list = list(df.select_dtypes(include = ['object']).columns)\n",
    "    for column in tqdm(object_list):\n",
    "        df[column] = df[column].astype('category').cat.codes\n",
    "    return df"
   ]
  },
  {
   "cell_type": "code",
   "execution_count": 73,
   "metadata": {},
   "outputs": [
    {
     "name": "stderr",
     "output_type": "stream",
     "text": [
      "100%|████████████████████████████████████████████████████████████████████████████████| 17/17 [00:00<00:00, 1244.51it/s]\n"
     ]
    }
   ],
   "source": [
    "student_data = clean_categorical_data(student_data)"
   ]
  },
  {
   "cell_type": "markdown",
   "metadata": {},
   "source": [
    "Feature scaling isn't necessary here as range was mentioned for each column and was almost the same for all columns.\n",
    "\n",
    "Now, it is time to select features and target. target would be required to be brought to a correct datatype to work correctly. Previous experience tells me that without converting it a numpy array and then squeezing causes issues during building models."
   ]
  },
  {
   "cell_type": "code",
   "execution_count": 74,
   "metadata": {},
   "outputs": [
    {
     "data": {
      "text/plain": [
       "dtype('int64')"
      ]
     },
     "execution_count": 74,
     "metadata": {},
     "output_type": "execute_result"
    }
   ],
   "source": [
    "features = student_data.iloc[:, :-1].values\n",
    "features.dtype"
   ]
  },
  {
   "cell_type": "code",
   "execution_count": 75,
   "metadata": {},
   "outputs": [],
   "source": [
    "target = student_data.iloc[:, -1:].values\n",
    "target = np.squeeze(np.asarray(target))"
   ]
  },
  {
   "cell_type": "code",
   "execution_count": 76,
   "metadata": {},
   "outputs": [
    {
     "data": {
      "text/plain": [
       "dtype('float64')"
      ]
     },
     "execution_count": 76,
     "metadata": {},
     "output_type": "execute_result"
    }
   ],
   "source": [
    "target.dtype"
   ]
  },
  {
   "cell_type": "markdown",
   "metadata": {},
   "source": [
    "Split the data to train and test. Testing is done on 20% of data."
   ]
  },
  {
   "cell_type": "code",
   "execution_count": 77,
   "metadata": {},
   "outputs": [],
   "source": [
    "x_train, x_test, y_train, y_test = tts(features, target, test_size = 0.2, random_state = 42)"
   ]
  },
  {
   "cell_type": "markdown",
   "metadata": {},
   "source": [
    "It is time to define functions that calculate metrics for the models used."
   ]
  },
  {
   "cell_type": "code",
   "execution_count": 78,
   "metadata": {},
   "outputs": [],
   "source": [
    "def get_variance_score(true, predict):\n",
    "    '''\n",
    "    Returns variance score.\n",
    "    '''\n",
    "    variance = explained_variance_score(true, predict)\n",
    "    return variance\n",
    "\n",
    "\n",
    "def get_mae(true, predict):\n",
    "    '''\n",
    "    Finds and returns mean absolute error.\n",
    "    '''\n",
    "    mae = mean_absolute_error(true, predict)\n",
    "    return mae\n",
    "\n",
    "\n",
    "def get_mse(true, predict):\n",
    "    '''\n",
    "    finds and returns mean squared error\n",
    "    '''\n",
    "    mse = mean_squared_error(true, predict)\n",
    "    return mse\n",
    "\n",
    "\n",
    "def get_msle(true, predict):\n",
    "    '''\n",
    "    finds and returns mean squared log error.\n",
    "    '''\n",
    "    msle = mean_squared_log_error(true, predict)\n",
    "    return msle\n",
    "\n",
    "\n",
    "def get_mdae(true, predict):\n",
    "    '''\n",
    "    finds and returns median absolute error.\n",
    "    '''\n",
    "    mdae = median_absolute_error(true, predict)\n",
    "    return mdae\n",
    "\n",
    "\n",
    "def get_r2(true, predict):\n",
    "    '''\n",
    "    Calculates R2 score and returns it.\n",
    "    '''\n",
    "    r2 = r2_score(true, predict)\n",
    "    return r2"
   ]
  },
  {
   "cell_type": "markdown",
   "metadata": {},
   "source": [
    "We should see how a specific machine learning model builds a regression model. Basically, how does the 'line' look like with respect to which it would predict the test data. For this we take a trained regressor and use it to predict on the same data as it was built on and then compare the actual values with the predicted values."
   ]
  },
  {
   "cell_type": "code",
   "execution_count": 93,
   "metadata": {},
   "outputs": [],
   "source": [
    "def model_graph(regressor, x_train, y_train, title):\n",
    "    '''\n",
    "    A trained regressor is asked to predict the values of the data with which it was trained. This way, we get how does the model sees the data.\n",
    "    Dots represent the actual data points we have and line represents the model our regressor has built.\n",
    "    '''\n",
    "    false_train = regressor.predict(x_train)\n",
    "    plt.scatter(np.arange(1,len(y_train)+1).tolist(), y_train, color = 'orange')\n",
    "    plt.plot(np.arange(1,len(y_train)+1).tolist(), false_train, color = 'red')\n",
    "    plt.title(title)\n",
    "    plt.xlabel(\"Entry\")\n",
    "    plt.ylabel(\"Values\")\n",
    "    plt.show()"
   ]
  },
  {
   "cell_type": "markdown",
   "metadata": {},
   "source": [
    "Now to keep tasks simple at hand, let's make functions of the models we are going to build."
   ]
  },
  {
   "cell_type": "code",
   "execution_count": 94,
   "metadata": {},
   "outputs": [],
   "source": [
    "def simple_dtr(X_train, X_test, y_train, y_test):\n",
    "    '''\n",
    "    A Decision Tree Regression Model that takes 4 inputs which are quite intutive by the names. Returns all the metrics and the predicted values as\n",
    "    well.\n",
    "    '''\n",
    "    regressor = DecisionTreeRegressor()\n",
    "    regressor.fit(X_train, y_train)\n",
    "    model_graph(regressor, X_train, y_train, \"Decision Tree\")\n",
    "    y_predict = regressor.predict(X_test)\n",
    "    variance = get_variance_score(y_test, y_predict)\n",
    "    mae = get_mae(y_test, y_predict)\n",
    "    mse = get_mse(y_test, y_predict)\n",
    "    msle = get_msle(y_test, y_predict)\n",
    "    r2 = get_r2(y_test, y_predict)\n",
    "    mdae = get_mdae(y_test, y_predict)\n",
    "    return variance, mae, mse, msle, r2, mdae, y_predict\n",
    "\n",
    "\n",
    "def simple_rfr(X_train, X_test, y_train, y_test, criteria):\n",
    "    '''\n",
    "    A Random Forest Regression Model with 100 trees and a specified criterion. With warm_start set as true, it tells that it is free to use the model\n",
    "    it previously build during the same session and modify it. By this manner, a Random Forest model would keep on improving by some factor whenever it \n",
    "    is rebuild.\n",
    "    '''\n",
    "    regressor = RandomForestRegressor(n_estimators = 100, criterion = criteria, warm_start = True)\n",
    "    regressor.fit(X_train, y_train)\n",
    "    model_graph(regressor, X_train, y_train, \"Random Forest \"+criteria)\n",
    "    y_predict = regressor.predict(X_test)\n",
    "    variance = get_variance_score(y_test, y_predict)\n",
    "    mae = get_mae(y_test, y_predict)\n",
    "    mse = get_mse(y_test, y_predict)\n",
    "    msle = get_msle(y_test, y_predict)\n",
    "    r2 = get_r2(y_test, y_predict)\n",
    "    mdae = get_mdae(y_test, y_predict)\n",
    "    return variance, mae, mse, msle, r2, mdae, y_predict\n",
    "\n",
    "\n",
    "def simple_svr(X_train, X_test, y_train, y_test, kernel):\n",
    "    '''\n",
    "    A Support Vector Regression model built using specified kernel, returns various metrics along with the prediction values.\n",
    "    '''\n",
    "    regressor = SVR(kernel = kernel)\n",
    "    regressor.fit(X_train, y_train)\n",
    "    model_graph(regressor, X_train, y_train, \"SVR \"+kernel)\n",
    "    y_predict = regressor.predict(X_test)\n",
    "    variance = get_variance_score(y_test, y_predict)\n",
    "    mae = get_mae(y_test, y_predict)\n",
    "    mse = get_mse(y_test, y_predict)\n",
    "    msle = get_msle(y_test, y_predict)\n",
    "    r2 = get_r2(y_test, y_predict)\n",
    "    mdae = get_mdae(y_test, y_predict)\n",
    "    return variance, mae, mse, msle, r2, mdae, y_predict"
   ]
  },
  {
   "cell_type": "markdown",
   "metadata": {},
   "source": [
    "To compare various models we need to keep track of their outputs as well as metrics. Lets store these values in differnt lists."
   ]
  },
  {
   "cell_type": "code",
   "execution_count": 95,
   "metadata": {},
   "outputs": [],
   "source": [
    "variance = []\n",
    "absolute_error = []\n",
    "squared_error = []\n",
    "squared_log_error = []\n",
    "r2 = []\n",
    "median_error = []"
   ]
  },
  {
   "cell_type": "markdown",
   "metadata": {},
   "source": [
    "Working with Decision Tree first. Adding outputs to specific lists as well."
   ]
  },
  {
   "cell_type": "code",
   "execution_count": 96,
   "metadata": {},
   "outputs": [
    {
     "data": {
      "image/png": "[encoded data removed]",
      "text/plain": [
       "<Figure size 432x288 with 1 Axes>"
      ]
     },
     "metadata": {
      "needs_background": "light"
     },
     "output_type": "display_data"
    },
    {
     "name": "stdout",
     "output_type": "stream",
     "text": [
      "Variance Score: -0.2803711956779582\n",
      "Mean Absolute Error: 2.738437001594896\n",
      "Mean Square Error: 13.180489101541731\n",
      "Mean Square Log Error: 0.13311322832516737\n",
      "R2 Score: -0.2803714427760382\n",
      "Median Absolute Error: 2.333333333333332\n"
     ]
    }
   ],
   "source": [
    "algo = \"Decision Tree\"\n",
    "v, a, s, sl, r, m, y = simple_dtr(x_train, x_test, y_train, y_test)\n",
    "print(\"Variance Score: {}\\nMean Absolute Error: {}\\nMean Square Error: {}\\nMean Square Log Error: {}\\nR2 Score: {}\\nMedian Absolute Error: {}\".format(v, a, s, sl, r, m))\n",
    "\n",
    "variance.append(v)\n",
    "absolute_error.append(a)\n",
    "squared_error.append(s)\n",
    "squared_log_error.append(sl)\n",
    "r2.append(r)\n",
    "median_error.append(m)"
   ]
  },
  {
   "cell_type": "markdown",
   "metadata": {},
   "source": [
    "It is trying to capture all the values. Quite strange behaviour from Decision Tree which I haven't seen previously. Red flag, maybe?"
   ]
  },
  {
   "cell_type": "markdown",
   "metadata": {},
   "source": [
    "Nevertheless, moving on to build Random Forest with both the possible criterions to see if there is any difference between the models they build."
   ]
  },
  {
   "cell_type": "code",
   "execution_count": 97,
   "metadata": {},
   "outputs": [
    {
     "name": "stderr",
     "output_type": "stream",
     "text": [
      "\r",
      "  0%|                                                                                            | 0/2 [00:00<?, ?it/s]"
     ]
    },
    {
     "data": {
      "image/png": "[encoded data removed]",
      "text/plain": [
       "<Figure size 432x288 with 1 Axes>"
      ]
     },
     "metadata": {
      "needs_background": "light"
     },
     "output_type": "display_data"
    },
    {
     "name": "stdout",
     "output_type": "stream",
     "text": [
      "mae\n",
      "Variance Score: 0.2629451891486383\n",
      "Mean Absolute Error: 2.1092663476874\n",
      "Mean Square Error: 7.594388197767145\n",
      "Mean Square Log Error: 0.07013278550654996\n",
      "R2 Score: 0.2622703377040041\n",
      "Median Absolute Error: 1.6883333333333361\n"
     ]
    },
    {
     "name": "stderr",
     "output_type": "stream",
     "text": [
      "\r",
      " 50%|██████████████████████████████████████████                                          | 1/2 [00:04<00:04,  4.09s/it]"
     ]
    },
    {
     "data": {
      "image/png": "[encoded data removed]",
      "text/plain": [
       "<Figure size 432x288 with 1 Axes>"
      ]
     },
     "metadata": {
      "needs_background": "light"
     },
     "output_type": "display_data"
    },
    {
     "name": "stdout",
     "output_type": "stream",
     "text": [
      "mse\n",
      "Variance Score: 0.24064900753432938\n",
      "Mean Absolute Error: 2.102092086276297\n",
      "Mean Square Error: 7.828765789645772\n",
      "Mean Square Log Error: 0.07184542515517545\n",
      "R2 Score: 0.23950256534319625\n",
      "Median Absolute Error: 1.6350000000000016\n"
     ]
    },
    {
     "name": "stderr",
     "output_type": "stream",
     "text": [
      "100%|████████████████████████████████████████████████████████████████████████████████████| 2/2 [00:04<00:00,  3.01s/it]\n"
     ]
    }
   ],
   "source": [
    "criterions = [\"mae\", \"mse\"]\n",
    "for c in tqdm(criterions):\n",
    "    algo = \"Random Forest\"\n",
    "    algo += \" - \"\n",
    "    algo += c\n",
    "    v, a, s, sl, r, m, y = simple_rfr(x_train, x_test, y_train, y_test, c)\n",
    "    print(c)\n",
    "    print(\"Variance Score: {}\\nMean Absolute Error: {}\\nMean Square Error: {}\\nMean Square Log Error: {}\\nR2 Score: {}\\nMedian Absolute Error: {}\".format(v, a, s, sl, r, m))\n",
    "    \n",
    "    variance.append(v)\n",
    "    absolute_error.append(a)\n",
    "    squared_error.append(s)\n",
    "    squared_log_error.append(sl)\n",
    "    r2.append(r)\n",
    "    median_error.append(m)"
   ]
  },
  {
   "cell_type": "markdown",
   "metadata": {},
   "source": [
    "Models look quite same to me. Also, it has improved over Decision Tree as well by not overfitting over the train data."
   ]
  },
  {
   "cell_type": "markdown",
   "metadata": {},
   "source": [
    "Next is the time for Support Vectors. I have used three kernels with which I am building three different models. "
   ]
  },
  {
   "cell_type": "code",
   "execution_count": 98,
   "metadata": {},
   "outputs": [
    {
     "name": "stderr",
     "output_type": "stream",
     "text": [
      "  0%|                                                                                            | 0/3 [00:00<?, ?it/s]C:\\Users\\japke\\Anaconda3\\lib\\site-packages\\sklearn\\svm\\base.py:196: FutureWarning: The default value of gamma will change from 'auto' to 'scale' in version 0.22 to account better for unscaled features. Set gamma explicitly to 'auto' or 'scale' to avoid this warning.\n",
      "  \"avoid this warning.\", FutureWarning)\n"
     ]
    },
    {
     "data": {
      "image/png": "[encoded data removed]",
      "text/plain": [
       "<Figure size 432x288 with 1 Axes>"
      ]
     },
     "metadata": {
      "needs_background": "light"
     },
     "output_type": "display_data"
    },
    {
     "name": "stdout",
     "output_type": "stream",
     "text": [
      "rbf\n",
      "Variance Score: 0.13177674534861716\n",
      "Mean Absolute Error: 2.2324343407042906\n",
      "Mean Square Error: 8.941313551372913\n",
      "Mean Square Log Error: 0.08209017118291728\n",
      "R2 Score: 0.13142809467175431\n",
      "Median Absolute Error: 1.7635845477696428\n"
     ]
    },
    {
     "name": "stderr",
     "output_type": "stream",
     "text": [
      " 33%|████████████████████████████                                                        | 1/3 [00:00<00:00,  5.14it/s]C:\\Users\\japke\\Anaconda3\\lib\\site-packages\\sklearn\\svm\\base.py:196: FutureWarning: The default value of gamma will change from 'auto' to 'scale' in version 0.22 to account better for unscaled features. Set gamma explicitly to 'auto' or 'scale' to avoid this warning.\n",
      "  \"avoid this warning.\", FutureWarning)\n"
     ]
    },
    {
     "data": {
      "image/png": "[encoded data removed]",
      "text/plain": [
       "<Figure size 432x288 with 1 Axes>"
      ]
     },
     "metadata": {
      "needs_background": "light"
     },
     "output_type": "display_data"
    },
    {
     "name": "stdout",
     "output_type": "stream",
     "text": [
      "sigmoid\n",
      "Variance Score: 6.2513161314115e-10\n",
      "Mean Absolute Error: 2.572408292629507\n",
      "Mean Square Error: 10.33706006878946\n",
      "Mean Square Log Error: 0.09086981915279531\n",
      "R2 Score: -0.004156705595272259\n",
      "Median Absolute Error: 2.099999999890601\n"
     ]
    },
    {
     "name": "stderr",
     "output_type": "stream",
     "text": [
      "\r",
      " 67%|████████████████████████████████████████████████████████                            | 2/3 [00:00<00:00,  5.03it/s]"
     ]
    },
    {
     "data": {
      "image/png": "[encoded data removed]",
      "text/plain": [
       "<Figure size 432x288 with 1 Axes>"
      ]
     },
     "metadata": {
      "needs_background": "light"
     },
     "output_type": "display_data"
    },
    {
     "name": "stdout",
     "output_type": "stream",
     "text": [
      "linear\n",
      "Variance Score: 0.11783281428602921\n",
      "Mean Absolute Error: 2.250920646445594\n",
      "Mean Square Error: 9.083094898235316\n",
      "Mean Square Log Error: 0.08481755124589538\n",
      "R2 Score: 0.11765525314497727\n",
      "Median Absolute Error: 1.740660326948957\n"
     ]
    },
    {
     "name": "stderr",
     "output_type": "stream",
     "text": [
      "100%|████████████████████████████████████████████████████████████████████████████████████| 3/3 [00:00<00:00,  4.57it/s]\n"
     ]
    }
   ],
   "source": [
    "kernels = [\"rbf\", \"sigmoid\", \"linear\"]\n",
    "for k in tqdm(kernels):\n",
    "    algo = \"SVR - \"\n",
    "    algo += k\n",
    "    v, a, s, sl, r, m, y = simple_svr(x_train, x_test, y_train, y_test, k)\n",
    "    print(k)\n",
    "    print(\"Variance Score: {}\\nMean Absolute Error: {}\\nMean Square Error: {}\\nMean Square Log Error: {}\\nR2 Score: {}\\nMedian Absolute Error: {}\".format(v, a, s, sl, r, m))\n",
    "    \n",
    "    variance.append(v)\n",
    "    absolute_error.append(a)\n",
    "    squared_error.append(s)\n",
    "    squared_log_error.append(sl)\n",
    "    r2.append(r)\n",
    "    median_error.append(m)"
   ]
  },
  {
   "cell_type": "markdown",
   "metadata": {},
   "source": [
    "Wow! All the models built, except the SVR with Sigmoid kernel, seems to be trying to reach to all the values. Especially the decision tree. From the graphs that have come, it can be said that SVR with linear kernel or rbf kernel is actually going to work better as it is not overfit on the data."
   ]
  },
  {
   "cell_type": "markdown",
   "metadata": {},
   "source": [
    "Time to visualize the metrics. For it, plotting all of those on the same graph to get a clear view."
   ]
  },
  {
   "cell_type": "code",
   "execution_count": 99,
   "metadata": {},
   "outputs": [],
   "source": [
    "def draw_graph(*lists):\n",
    "    '''\n",
    "    This method takes variable number of lists as input. But as I know how many metrics I have used, I have initialized colors and labels to the\n",
    "    same number.\n",
    "    It plots all those list's data on the graph and returns nothing.\n",
    "    '''\n",
    "    colors = ['blue', 'red', 'green', 'yellow', 'orange', 'violet']\n",
    "    labels = ['Variance Score', 'Mean Absolute Error', 'Mean Square Error', 'Mean Square Log Error', 'R2 Score', 'Median Absolute Error']\n",
    "    i = 0\n",
    "    for args in tqdm(lists):\n",
    "        plt.plot(np.arange(1,7).tolist(), args, color = colors[i], label = labels[i])\n",
    "        i += 1\n",
    "    plt.xlabel('Algorithms')\n",
    "    plt.xticks(np.arange(1,7).tolist(), ('Decision Tree', 'Random Forest - MAE', 'Random Forest - MSE', 'SVR - rbf', 'SVR - Sigmoid', 'SVR - linear'))\n",
    "    plt.ylabel('Errors')\n",
    "    plt.title('Algorithms vs Errors')\n",
    "    plt.legend()\n",
    "    plt.show()"
   ]
  },
  {
   "cell_type": "code",
   "execution_count": 100,
   "metadata": {},
   "outputs": [
    {
     "name": "stderr",
     "output_type": "stream",
     "text": [
      "100%|███████████████████████████████████████████████████████████████████████████████████| 6/6 [00:00<00:00, 462.79it/s]\n"
     ]
    },
    {
     "data": {
      "image/png": "[encoded data removed]",
      "text/plain": [
       "<Figure size 432x288 with 1 Axes>"
      ]
     },
     "metadata": {
      "needs_background": "light"
     },
     "output_type": "display_data"
    }
   ],
   "source": [
    "draw_graph(variance, absolute_error, squared_error, squared_log_error, r2, median_error)"
   ]
  },
  {
   "cell_type": "markdown",
   "metadata": {},
   "source": [
    "This graph compared all the algorithms for various metrics recommended by sklearn in their documentation for a regression based machine learning model. From this graph it is surely difficult to choose the right model amongst the ones we have used as some or the other parameter is better for different model."
   ]
  },
  {
   "cell_type": "markdown",
   "metadata": {},
   "source": [
    "## What can be done to get these models to do better?\n",
    "\n",
    "Some of the features are not required and are probably the reason the models are trying to reach to all values. So we can remove those features. To find out those features, one can use P-values for it and build a model with backward elimination. This would slow down the model building time significantly but would increase accuracy.\n",
    "\n",
    "Backward Elimination --> First a model with all features is build, then P-values for each feature is calculated, then the feature with highest P value is removed. The process is repeated from building a model, again finding P-values, removal and goes on till P-values of all the remaining features is brought down to predefined threshold. (on average, the threshold is chosen as 0.05)\n",
    "\n",
    "P-values --> It can be vaguely said as the contribution of each feature in degrading the model.\n",
    "\n",
    "I haven't added the Backward elimination code in this notebook but it can be found in one of my previous project here: https://github.com/Japkeerat/House-Price-Predictions"
   ]
  },
  {
   "cell_type": "code",
   "execution_count": null,
   "metadata": {},
   "outputs": [],
   "source": []
  }
 ],
 "metadata": {
  "kernelspec": {
   "display_name": "Python 3",
   "language": "python",
   "name": "python3"
  },
  "language_info": {
   "codemirror_mode": {
    "name": "ipython",
    "version": 3
   },
   "file_extension": ".py",
   "mimetype": "text/x-python",
   "name": "python",
   "nbconvert_exporter": "python",
   "pygments_lexer": "ipython3",
   "version": "3.6.7"
  }
 },
 "nbformat": 4,
 "nbformat_minor": 2
}
